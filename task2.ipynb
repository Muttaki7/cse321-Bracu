{
  "nbformat": 4,
  "nbformat_minor": 0,
  "metadata": {
    "colab": {
      "provenance": []
    },
    "kernelspec": {
      "name": "python3",
      "display_name": "Python 3"
    },
    "language_info": {
      "name": "python"
    }
  },
  "cells": [
    {
      "cell_type": "code",
      "execution_count": null,
      "metadata": {
        "id": "vdgFrl8fXA0q"
      },
      "outputs": [],
      "source": [
        "#include <stdio.h>\n",
        "\n",
        "int isPerfect(int num) {\n",
        "    int sum = 0;\n",
        "    for (int i = 1; i <= num / 2; i++) {\n",
        "        if (num % i == 0)\n",
        "            sum += i;\n",
        "    }\n",
        "    return sum == num;\n",
        "}\n",
        "\n",
        "int main() {\n",
        "    int start, end;\n",
        "\n",
        "    printf(\"Enter start and end range: \");\n",
        "    scanf(\"%d %d\", &start, &end);\n",
        "\n",
        "    for (int i = start; i <= end; i++) {\n",
        "        if (isPerfect(i)) {\n",
        "            printf(\"%d\\n\", i);\n",
        "        }\n",
        "    }\n",
        "\n",
        "    return 0;\n",
        "}\n"
      ]
    }
  ]
}