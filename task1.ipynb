{
  "nbformat": 4,
  "nbformat_minor": 0,
  "metadata": {
    "colab": {
      "provenance": []
    },
    "kernelspec": {
      "name": "python3",
      "display_name": "Python 3"
    },
    "language_info": {
      "name": "python"
    }
  },
  "cells": [
    {
      "cell_type": "code",
      "execution_count": null,
      "metadata": {
        "id": "vdgFrl8fXA0q"
      },
      "outputs": [],
      "source": [
        "#include <stdio.h>\n",
        "\n",
        "struct Item {\n",
        "    int quantity;\n",
        "    float unit_price;\n",
        "};\n",
        "\n",
        "int main() {\n",
        "    struct Item paratha, vegetable, water;\n",
        "    int num_people;\n",
        "    float total_bill, per_person;\n",
        "\n",
        "    printf(\"Quantity Of Paratha: \");\n",
        "    scanf(\"%d\", &paratha.quantity);\n",
        "    printf(\"Unit Price: \");\n",
        "    scanf(\"%f\", &paratha.unit_price);\n",
        "\n",
        "    printf(\"Quantity Of Vegetables: \");\n",
        "    scanf(\"%d\", &vegetable.quantity);\n",
        "    printf(\"Unit Price: \");\n",
        "    scanf(\"%f\", &vegetable.unit_price);\n",
        "\n",
        "    printf(\"Quantity Of Mineral Water: \");\n",
        "    scanf(\"%d\", &water.quantity);\n",
        "    printf(\"Unit Price: \");\n",
        "    scanf(\"%f\", &water.unit_price);\n",
        "\n",
        "    printf(\"Number of People: \");\n",
        "    scanf(\"%d\", &num_people);\n",
        "\n",
        "    total_bill = (paratha.quantity * paratha.unit_price) +\n",
        "                 (vegetable.quantity * vegetable.unit_price) +\n",
        "                 (water.quantity * water.unit_price);\n",
        "\n",
        "    per_person = total_bill / num_people;\n",
        "\n",
        "    printf(\"Individual people will pay: %.2f tk\\n\", per_person);\n",
        "\n",
        "    return 0;\n",
        "}\n"
      ]
    }
  ]
}